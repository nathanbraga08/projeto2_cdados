{
 "cells": [
  {
   "cell_type": "markdown",
   "metadata": {},
   "source": [
    "___\n",
    "# PROJETO 2 - T2B: <p> <center> Análise Exploratória de Dados \n",
    "___\n",
    "    \n",
    "### Integrantes: <br>\n",
    "    1. Bruno Netto\n",
    "    2. Leonardo Arcanjo\n",
    "    3. Nathan Carlos Braga do Carmo\n",
    "    "
   ]
  },
  {
   "cell_type": "markdown",
   "metadata": {},
   "source": [
    "___\n",
    "<div id=\"indice\"></div>\n",
    "\n",
    "## Índice\n",
    "\n",
    "- [REGRAS](#regras)  \n",
    "- [CONTEXTO](#contexto)  \n",
    "- [DICIONÁRIO DAS VARIÁVEIS](#dados)\n",
    "- [OBJETIVO](#objetivo)\n",
    "- [LEITURA DA BASE DE DADOS](#leitura)\n",
    "- [PREPARO DA BASE DE DADOS](#preparo)\n",
    "- [ANÁLISE EXPLORATÓRIA DE DADOS](#AED)"
   ]
  },
  {
   "cell_type": "markdown",
   "metadata": {},
   "source": [
    "___\n",
    "<div id=\"regras\"></div>\n",
    "\n",
    "## REGRAS\n",
    "\n",
    "Antes de começar a resolução deste projeto, leia e siga as instruções abaixo:\n",
    "\n",
    "  1. **Deadline:** 26/03/2024, final da aula, via Blackboard.\n",
    "  \n",
    "  <p>\n",
    "  \n",
    "  2. **Grupos:** máximo de 4 alunos\n",
    "\n",
    "  <p>\n",
    "    \n",
    "  3. **Tarefas do grupo:**\n",
    "     * Trabalhem em equipe para concluir esta tarefa com êxito. \n",
    "     * Saibam distribuir tarefas entre vocês.\n",
    "     * Discutam, prévia e exclusivamente entre os alunos do mesmo grupo, a estratégia e elaboração para resolver este caso. \n",
    " \n",
    "  <p>\n",
    "  \n",
    "  4. **Responsabilidades:**\n",
    "     * Todos os integrantes do grupo têm total e igual responsabilidade sobre o trabalho entregue, isso vale para os acertos, erros e possíveis plágios.\n",
    "     * Código de ética se aplica a este trabalho. Leia o Manual do Aluno disponível no Portal do Aluno do Insper e as regras disponíveis aqui.\n",
    "\n",
    "  <p>\n",
    "       \n",
    "   5. **Arquivos a serem enviados:**\n",
    "      * `Projeto2_RELATORIO.docx` utilize esse arquivo para construir um relatório com a análise descritiva e as devidas conclusões do problema apresentado. \n",
    "      * `Projeto2_AED.ipynb` ao terminar a análise, todos os arquivos do Jupyter Notebook que foram utilizados para construir as análises do relatório devem ser anexado no Blackboard. \n",
    "\n",
    "  <p>\n",
    "        \n",
    "   6. **Atenção:**\n",
    "      * Números e/ou resultados que apareçam sem uma explicação de como foram encontrados serão ignorados ou penalizados na correção. \n",
    "      * Clareza, organização, formatação, fluidez no texto e ortografia serão pontuadas neste trabalho.\n",
    "      * Se não houver arquivos de programação com Python disponibilizado no Blackboard, o grupo terá a nota do Projeto 2 ZERADA (igual a zero).\n",
    " \n",
    "   <p>\n",
    "          \n",
    "**BOM TRABALHO!!**\n"
   ]
  },
  {
   "cell_type": "markdown",
   "metadata": {},
   "source": [
    "___\n",
    "<div id=\"contexto\"></div>\n",
    "\n",
    "## CONTEXTO\n",
    "\n",
    "Imagine que você é um consultor educacional que trabalha com universidades e instituições de ensino superior. <br>\n",
    "Seu objetivo é ajudá-los a otimizar o processo de admissão de estudantes em seus programas de pós-graduação."
   ]
  },
  {
   "cell_type": "markdown",
   "metadata": {},
   "source": [
    "<div id=\"dados\"></div>\n",
    "\n",
    "## DICIONÁRIO DAS VARIÁVEIS\n",
    "\n",
    "Na base de dados, cada linha corresponde a um estudante e cada coluna captura diferentes características desses estudantes.<br>\n",
    "\n",
    "As variáveis apresentadas na base de dados `Projeto2_DADOS-T2B.xslx` são: <p>\n",
    "\n",
    " * `Serie_No`: Identificação única do estudante na base de dados. <p> \n",
    "    \n",
    " * `Nota_GRE`: Nota do estudante no exame GRE (Graduate Record Examination), com uma pontuação máxima de 340. <br> \n",
    "   O GRE é um teste padrão para estudantes de graduação que estão buscando ingressar em programas de pós-graduação em universidades. <p>\n",
    "     \n",
    " * `Nota_TOEFL`: Nota do estudante no exame TOEFL (Test of English as a Foreign Language), com uma pontuação máxima de 120.<br>\n",
    "   O TOEFL é um teste projetado para avaliar a proficiência em inglês de falantes não nativos em um ambiente acadêmico. <p>\n",
    "     \n",
    " * `Taxa_SOP`: Avaliação da qualidade da declaração de propósito do estudante para a vaga, com um valor de 0 até 5. <br>\n",
    "   O SOP (Statement of Purpose) é uma declaração de propósito do estudante indicando sua motivação à vaga de pós-graduação.<p>\n",
    "         \n",
    " * `Taxa_LOR`: Avaliação da qualidade da carta de recomendação do estudante à vaga, com um valor de 0 até 5. <br>\n",
    "   O LOR (Letter of Recommendation) é uma carta escrita geralmente por algum professor universitário que recomenda o estudante para um programa de pós-graduação. <p>\n",
    "       \n",
    " * `Taxa_CGPA`: Nota média do estudante durante a graduação, com um valor de 0 até 10. <br>\n",
    "   O CGPA (Cumulative Grade Point Average) reflete o desempenho acadêmico do estudante durante sua graduação. <p>\n",
    "       \n",
    " * `Pesquisa`: Indica se estudante de graduação possui experiência em pesquisa, com valor 0 para **não** e 1 para **sim**. <p>\n",
    "     \n",
    " * `Admissao`: Indica se estudante de graduação tem alta probabilidade de admissão em um curso de pós-graduação, com valor 0 para **não** e 1 para **sim**.\n",
    " \n",
    "  \n"
   ]
  },
  {
   "cell_type": "markdown",
   "metadata": {},
   "source": [
    "___\n",
    "<div id=\"objetivo\"></div>\n",
    "\n",
    "## OBJETIVO\n",
    "\n",
    "Neste projeto, nosso foco é identificar as características mais relevantes de um estudante de graduação, presentes na base de dados, que aumentam sua probabilidade de ser admitido em um curso de pós-graduação. <br>\n",
    "Assuma que o objetivo deste estudo considera a variável `Admissao` como **target** (ou seja, variável principal) e as demais como **features** (ou seja, possíveis variáveis que explicam mudanças na variável principal). <br>\n",
    "Para isso, a Análise Exploratória de Dados desenvolvida pelo seu grupo deve utilizar ferramentas estatísticas para:\n",
    "\n",
    " 1. Descrever o perfil dos estudantes com alta probabilidade de admissão em cursos de pós-graduação, levando em consideração suas características.\n",
    " 2. Descrever o perfil dos estudantes sem alta probabilidade de admissão em cursos de pós-graduação, considerando suas características.\n",
    " 3. Comparar e identificar semelhanças e diferenças nas diversas características dos estudantes com e sem alta probabilidade de admissão na universidade.\n",
    " 4. Determinar se um novo estudante, com valores específicos nas seguintes variáveis, seria admitido na universidade:\n",
    " \n",
    " `Nota_GRE` |\t`Nota_TOEFL` |\t`Taxa_SOP` |\t`Taxa_LOR` | `Taxa_CGPA` | `Pesquisa`\n",
    " :-:|:-:|:-:|:-:|:-:|:-:\n",
    " 225|100|5,00|4,50|7,05|1\n",
    "\n"
   ]
  },
  {
   "cell_type": "markdown",
   "metadata": {},
   "source": [
    "[Volta ao Índice](#indice)"
   ]
  },
  {
   "cell_type": "code",
   "execution_count": 2,
   "metadata": {},
   "outputs": [],
   "source": [
    "%matplotlib inline\n",
    "import math\n",
    "import os\n",
    "\n",
    "import matplotlib.pyplot as plt\n",
    "import numpy as np\n",
    "from numpy import arange\n",
    "import pandas as pd\n",
    "\n",
    "from scipy import stats #importa apenas as funções de estatísticas da biblioteca SciPy.\n",
    "\n",
    "from IPython.display import display  # Para ter melhor print."
   ]
  },
  {
   "cell_type": "markdown",
   "metadata": {},
   "source": [
    "<div id=\"leitura\"></div>\n",
    "\n",
    "## LEITURA DA BASE DE DADOS"
   ]
  },
  {
   "cell_type": "code",
   "execution_count": 3,
   "metadata": {},
   "outputs": [
    {
     "name": "stdout",
     "output_type": "stream",
     "text": [
      "Esperamos trabalhar no diretório\n",
      "c:\\Users\\Bruno\\Downloads\\SEMESTRE 2\\CIÊNCIA DE DADOS\\PROJETO 2\\git\\projeto2_cdados\n"
     ]
    }
   ],
   "source": [
    "print(\"Esperamos trabalhar no diretório\")\n",
    "print(os.getcwd())"
   ]
  },
  {
   "cell_type": "code",
   "execution_count": 4,
   "metadata": {},
   "outputs": [
    {
     "name": "stdout",
     "output_type": "stream",
     "text": [
      "Parece que o arquivo Projeto2_DADOS-T2B.xlsx está na mesma pasta do notebook da avaliação, yay!\n",
      "\n"
     ]
    }
   ],
   "source": [
    "filename = 'Projeto2_DADOS-T2B.xlsx'\n",
    "\n",
    "if filename in os.listdir():\n",
    "    print(f'Parece que o arquivo {filename} está na mesma pasta do notebook da avaliação, yay!\\n')\n",
    "    \n",
    "else:\n",
    "    print(f'Não encontrei o arquivo {filename}.\\n'\n",
    "          f'O notebook e os arquivos de dados desta avaliação devem ser salvos dentro da mesma pasta no seu computador.\\n')"
   ]
  },
  {
   "cell_type": "code",
   "execution_count": 16,
   "metadata": {
    "scrolled": true
   },
   "outputs": [
    {
     "data": {
      "text/html": [
       "<div>\n",
       "<style scoped>\n",
       "    .dataframe tbody tr th:only-of-type {\n",
       "        vertical-align: middle;\n",
       "    }\n",
       "\n",
       "    .dataframe tbody tr th {\n",
       "        vertical-align: top;\n",
       "    }\n",
       "\n",
       "    .dataframe thead th {\n",
       "        text-align: right;\n",
       "    }\n",
       "</style>\n",
       "<table border=\"1\" class=\"dataframe\">\n",
       "  <thead>\n",
       "    <tr style=\"text-align: right;\">\n",
       "      <th></th>\n",
       "      <th>Serio_No</th>\n",
       "      <th>Nota_GRE</th>\n",
       "      <th>Nota_TOEFL</th>\n",
       "      <th>Taxa_SOP</th>\n",
       "      <th>Taxa_LOR</th>\n",
       "      <th>Taxa_CGPA</th>\n",
       "      <th>Pesquisa</th>\n",
       "      <th>Admissao</th>\n",
       "    </tr>\n",
       "  </thead>\n",
       "  <tbody>\n",
       "    <tr>\n",
       "      <th>0</th>\n",
       "      <td>1</td>\n",
       "      <td>337</td>\n",
       "      <td>118</td>\n",
       "      <td>4.5</td>\n",
       "      <td>4.5</td>\n",
       "      <td>9.65</td>\n",
       "      <td>1</td>\n",
       "      <td>1</td>\n",
       "    </tr>\n",
       "    <tr>\n",
       "      <th>1</th>\n",
       "      <td>2</td>\n",
       "      <td>324</td>\n",
       "      <td>107</td>\n",
       "      <td>4.0</td>\n",
       "      <td>4.5</td>\n",
       "      <td>8.87</td>\n",
       "      <td>1</td>\n",
       "      <td>1</td>\n",
       "    </tr>\n",
       "    <tr>\n",
       "      <th>2</th>\n",
       "      <td>3</td>\n",
       "      <td>316</td>\n",
       "      <td>104</td>\n",
       "      <td>3.0</td>\n",
       "      <td>3.5</td>\n",
       "      <td>8.00</td>\n",
       "      <td>1</td>\n",
       "      <td>0</td>\n",
       "    </tr>\n",
       "    <tr>\n",
       "      <th>3</th>\n",
       "      <td>4</td>\n",
       "      <td>322</td>\n",
       "      <td>110</td>\n",
       "      <td>3.5</td>\n",
       "      <td>2.5</td>\n",
       "      <td>8.67</td>\n",
       "      <td>1</td>\n",
       "      <td>1</td>\n",
       "    </tr>\n",
       "    <tr>\n",
       "      <th>4</th>\n",
       "      <td>5</td>\n",
       "      <td>314</td>\n",
       "      <td>103</td>\n",
       "      <td>2.0</td>\n",
       "      <td>3.0</td>\n",
       "      <td>8.21</td>\n",
       "      <td>0</td>\n",
       "      <td>0</td>\n",
       "    </tr>\n",
       "  </tbody>\n",
       "</table>\n",
       "</div>"
      ],
      "text/plain": [
       "   Serio_No  Nota_GRE  Nota_TOEFL  Taxa_SOP  Taxa_LOR   Taxa_CGPA  Pesquisa  \\\n",
       "0         1       337         118       4.5        4.5       9.65         1   \n",
       "1         2       324         107       4.0        4.5       8.87         1   \n",
       "2         3       316         104       3.0        3.5       8.00         1   \n",
       "3         4       322         110       3.5        2.5       8.67         1   \n",
       "4         5       314         103       2.0        3.0       8.21         0   \n",
       "\n",
       "   Admissao  \n",
       "0         1  \n",
       "1         1  \n",
       "2         0  \n",
       "3         1  \n",
       "4         0  "
      ]
     },
     "execution_count": 16,
     "metadata": {},
     "output_type": "execute_result"
    }
   ],
   "source": [
    "# Carregando os dados\n",
    "t2b = pd.read_excel('Projeto2_DADOS-T2B.xlsx')\n",
    "\n",
    "t2b.head()\n"
   ]
  },
  {
   "cell_type": "code",
   "execution_count": 24,
   "metadata": {},
   "outputs": [
    {
     "data": {
      "text/plain": [
       "Serio_No         int64\n",
       "Nota_GRE         int64\n",
       "Nota_TOEFL       int64\n",
       "Taxa_SOP       float64\n",
       "Taxa_LOR       float64\n",
       "Taxa_CGPA      float64\n",
       "Pesquisa      category\n",
       "Admissao      category\n",
       "dtype: object"
      ]
     },
     "execution_count": 24,
     "metadata": {},
     "output_type": "execute_result"
    }
   ],
   "source": []
  },
  {
   "cell_type": "code",
   "execution_count": 35,
   "metadata": {},
   "outputs": [
    {
     "data": {
      "text/html": [
       "<div>\n",
       "<style scoped>\n",
       "    .dataframe tbody tr th:only-of-type {\n",
       "        vertical-align: middle;\n",
       "    }\n",
       "\n",
       "    .dataframe tbody tr th {\n",
       "        vertical-align: top;\n",
       "    }\n",
       "\n",
       "    .dataframe thead th {\n",
       "        text-align: right;\n",
       "    }\n",
       "</style>\n",
       "<table border=\"1\" class=\"dataframe\">\n",
       "  <thead>\n",
       "    <tr style=\"text-align: right;\">\n",
       "      <th></th>\n",
       "      <th>Serio_No</th>\n",
       "      <th>Nota_GRE</th>\n",
       "      <th>Nota_TOEFL</th>\n",
       "      <th>Taxa_SOP</th>\n",
       "      <th>Taxa_LOR</th>\n",
       "      <th>Taxa_CGPA</th>\n",
       "      <th>Pesquisa</th>\n",
       "      <th>Admissao</th>\n",
       "    </tr>\n",
       "  </thead>\n",
       "  <tbody>\n",
       "  </tbody>\n",
       "</table>\n",
       "</div>"
      ],
      "text/plain": [
       "Empty DataFrame\n",
       "Columns: [Serio_No, Nota_GRE, Nota_TOEFL, Taxa_SOP, Taxa_LOR , Taxa_CGPA, Pesquisa, Admissao]\n",
       "Index: []"
      ]
     },
     "execution_count": 35,
     "metadata": {},
     "output_type": "execute_result"
    }
   ],
   "source": []
  },
  {
   "cell_type": "markdown",
   "metadata": {},
   "source": []
  },
  {
   "cell_type": "markdown",
   "metadata": {},
   "source": [
    "#OBJETIVOS\n",
    "\n",
    "- dois dataframes - FEITO - BRUNO\n",
    "- correlação\n",
    "- histograma, boxplot, scatter, (groupby + pd.cut, bar) pra cada caracteristica\n",
    "\n",
    "\n",
    "- groupby\n",
    "- pd cut em cada uma das caracteristicas\n",
    "- crostbab com cada uma das caracteristicas"
   ]
  },
  {
   "cell_type": "markdown",
   "metadata": {},
   "source": [
    "[Volta ao Índice](#indice)"
   ]
  },
  {
   "cell_type": "markdown",
   "metadata": {},
   "source": [
    "<div id=\"preparo\"></div>\n",
    "\n",
    "## PREPARO DA BASE DE DADOS\n",
    "\n",
    "**IMPORTANTE:** Certifique-se de que o dataframe esteja reconhecendo corretamente as variáveis qualitativas, de acordo com o dicionário fornecido. Caso não esteja, faça essa transformação conforme visto em aula."
   ]
  },
  {
   "cell_type": "code",
   "execution_count": null,
   "metadata": {},
   "outputs": [],
   "source": []
  },
  {
   "cell_type": "code",
   "execution_count": 40,
   "metadata": {
    "scrolled": true
   },
   "outputs": [
    {
     "data": {
      "text/plain": [
       "pandas.core.frame.DataFrame"
      ]
     },
     "execution_count": 40,
     "metadata": {},
     "output_type": "execute_result"
    }
   ],
   "source": [
    "type(t2b)"
   ]
  },
  {
   "cell_type": "code",
   "execution_count": 42,
   "metadata": {},
   "outputs": [
    {
     "data": {
      "text/html": [
       "<div>\n",
       "<style scoped>\n",
       "    .dataframe tbody tr th:only-of-type {\n",
       "        vertical-align: middle;\n",
       "    }\n",
       "\n",
       "    .dataframe tbody tr th {\n",
       "        vertical-align: top;\n",
       "    }\n",
       "\n",
       "    .dataframe thead th {\n",
       "        text-align: right;\n",
       "    }\n",
       "</style>\n",
       "<table border=\"1\" class=\"dataframe\">\n",
       "  <thead>\n",
       "    <tr style=\"text-align: right;\">\n",
       "      <th></th>\n",
       "      <th>Serio_No</th>\n",
       "      <th>Nota_GRE</th>\n",
       "      <th>Nota_TOEFL</th>\n",
       "      <th>Taxa_SOP</th>\n",
       "      <th>Taxa_LOR</th>\n",
       "      <th>Taxa_CGPA</th>\n",
       "      <th>Pesquisa</th>\n",
       "      <th>Admissao</th>\n",
       "    </tr>\n",
       "  </thead>\n",
       "  <tbody>\n",
       "    <tr>\n",
       "      <th>0</th>\n",
       "      <td>1</td>\n",
       "      <td>337</td>\n",
       "      <td>118</td>\n",
       "      <td>4.5</td>\n",
       "      <td>4.5</td>\n",
       "      <td>9.65</td>\n",
       "      <td>sim</td>\n",
       "      <td>sim</td>\n",
       "    </tr>\n",
       "    <tr>\n",
       "      <th>1</th>\n",
       "      <td>2</td>\n",
       "      <td>324</td>\n",
       "      <td>107</td>\n",
       "      <td>4.0</td>\n",
       "      <td>4.5</td>\n",
       "      <td>8.87</td>\n",
       "      <td>sim</td>\n",
       "      <td>sim</td>\n",
       "    </tr>\n",
       "    <tr>\n",
       "      <th>2</th>\n",
       "      <td>3</td>\n",
       "      <td>316</td>\n",
       "      <td>104</td>\n",
       "      <td>3.0</td>\n",
       "      <td>3.5</td>\n",
       "      <td>8.00</td>\n",
       "      <td>sim</td>\n",
       "      <td>nao</td>\n",
       "    </tr>\n",
       "    <tr>\n",
       "      <th>3</th>\n",
       "      <td>4</td>\n",
       "      <td>322</td>\n",
       "      <td>110</td>\n",
       "      <td>3.5</td>\n",
       "      <td>2.5</td>\n",
       "      <td>8.67</td>\n",
       "      <td>sim</td>\n",
       "      <td>sim</td>\n",
       "    </tr>\n",
       "    <tr>\n",
       "      <th>4</th>\n",
       "      <td>5</td>\n",
       "      <td>314</td>\n",
       "      <td>103</td>\n",
       "      <td>2.0</td>\n",
       "      <td>3.0</td>\n",
       "      <td>8.21</td>\n",
       "      <td>nao</td>\n",
       "      <td>nao</td>\n",
       "    </tr>\n",
       "  </tbody>\n",
       "</table>\n",
       "</div>"
      ],
      "text/plain": [
       "   Serio_No  Nota_GRE  Nota_TOEFL  Taxa_SOP  Taxa_LOR   Taxa_CGPA Pesquisa  \\\n",
       "0         1       337         118       4.5        4.5       9.65      sim   \n",
       "1         2       324         107       4.0        4.5       8.87      sim   \n",
       "2         3       316         104       3.0        3.5       8.00      sim   \n",
       "3         4       322         110       3.5        2.5       8.67      sim   \n",
       "4         5       314         103       2.0        3.0       8.21      nao   \n",
       "\n",
       "  Admissao  \n",
       "0      sim  \n",
       "1      sim  \n",
       "2      nao  \n",
       "3      sim  \n",
       "4      nao  "
      ]
     },
     "execution_count": 42,
     "metadata": {},
     "output_type": "execute_result"
    }
   ],
   "source": [
    "t2b.Pesquisa=t2b.Pesquisa.astype('category')\n",
    "t2b.Admissao=t2b.Admissao.astype('category')\n",
    "t2b.rename(columns={'Taxa_LOR ':'Taxa_LOR'})\n",
    "t2b.Pesquisa=t2b.Pesquisa.cat.rename_categories({1:'sim', 0:'nao'})\n",
    "t2b.Admissao=t2b.Admissao.cat.rename_categories({1:'sim', 0:'nao'})\n",
    "t2b.head()"
   ]
  },
  {
   "cell_type": "code",
   "execution_count": 43,
   "metadata": {
    "scrolled": true
   },
   "outputs": [
    {
     "data": {
      "text/html": [
       "<div>\n",
       "<style scoped>\n",
       "    .dataframe tbody tr th:only-of-type {\n",
       "        vertical-align: middle;\n",
       "    }\n",
       "\n",
       "    .dataframe tbody tr th {\n",
       "        vertical-align: top;\n",
       "    }\n",
       "\n",
       "    .dataframe thead th {\n",
       "        text-align: right;\n",
       "    }\n",
       "</style>\n",
       "<table border=\"1\" class=\"dataframe\">\n",
       "  <thead>\n",
       "    <tr style=\"text-align: right;\">\n",
       "      <th></th>\n",
       "      <th>Serio_No</th>\n",
       "      <th>Nota_GRE</th>\n",
       "      <th>Nota_TOEFL</th>\n",
       "      <th>Taxa_SOP</th>\n",
       "      <th>Taxa_LOR</th>\n",
       "      <th>Taxa_CGPA</th>\n",
       "      <th>Pesquisa</th>\n",
       "      <th>Admissao</th>\n",
       "    </tr>\n",
       "  </thead>\n",
       "  <tbody>\n",
       "    <tr>\n",
       "      <th>0</th>\n",
       "      <td>1</td>\n",
       "      <td>337</td>\n",
       "      <td>118</td>\n",
       "      <td>4.5</td>\n",
       "      <td>4.5</td>\n",
       "      <td>9.65</td>\n",
       "      <td>sim</td>\n",
       "      <td>sim</td>\n",
       "    </tr>\n",
       "    <tr>\n",
       "      <th>1</th>\n",
       "      <td>2</td>\n",
       "      <td>324</td>\n",
       "      <td>107</td>\n",
       "      <td>4.0</td>\n",
       "      <td>4.5</td>\n",
       "      <td>8.87</td>\n",
       "      <td>sim</td>\n",
       "      <td>sim</td>\n",
       "    </tr>\n",
       "    <tr>\n",
       "      <th>3</th>\n",
       "      <td>4</td>\n",
       "      <td>322</td>\n",
       "      <td>110</td>\n",
       "      <td>3.5</td>\n",
       "      <td>2.5</td>\n",
       "      <td>8.67</td>\n",
       "      <td>sim</td>\n",
       "      <td>sim</td>\n",
       "    </tr>\n",
       "    <tr>\n",
       "      <th>5</th>\n",
       "      <td>6</td>\n",
       "      <td>330</td>\n",
       "      <td>115</td>\n",
       "      <td>4.5</td>\n",
       "      <td>3.0</td>\n",
       "      <td>9.34</td>\n",
       "      <td>sim</td>\n",
       "      <td>sim</td>\n",
       "    </tr>\n",
       "    <tr>\n",
       "      <th>6</th>\n",
       "      <td>7</td>\n",
       "      <td>321</td>\n",
       "      <td>109</td>\n",
       "      <td>3.0</td>\n",
       "      <td>4.0</td>\n",
       "      <td>8.20</td>\n",
       "      <td>sim</td>\n",
       "      <td>sim</td>\n",
       "    </tr>\n",
       "    <tr>\n",
       "      <th>...</th>\n",
       "      <td>...</td>\n",
       "      <td>...</td>\n",
       "      <td>...</td>\n",
       "      <td>...</td>\n",
       "      <td>...</td>\n",
       "      <td>...</td>\n",
       "      <td>...</td>\n",
       "      <td>...</td>\n",
       "    </tr>\n",
       "    <tr>\n",
       "      <th>394</th>\n",
       "      <td>395</td>\n",
       "      <td>329</td>\n",
       "      <td>111</td>\n",
       "      <td>4.5</td>\n",
       "      <td>4.0</td>\n",
       "      <td>9.23</td>\n",
       "      <td>sim</td>\n",
       "      <td>sim</td>\n",
       "    </tr>\n",
       "    <tr>\n",
       "      <th>395</th>\n",
       "      <td>396</td>\n",
       "      <td>324</td>\n",
       "      <td>110</td>\n",
       "      <td>3.5</td>\n",
       "      <td>3.5</td>\n",
       "      <td>9.04</td>\n",
       "      <td>sim</td>\n",
       "      <td>sim</td>\n",
       "    </tr>\n",
       "    <tr>\n",
       "      <th>396</th>\n",
       "      <td>397</td>\n",
       "      <td>325</td>\n",
       "      <td>107</td>\n",
       "      <td>3.0</td>\n",
       "      <td>3.5</td>\n",
       "      <td>9.11</td>\n",
       "      <td>sim</td>\n",
       "      <td>sim</td>\n",
       "    </tr>\n",
       "    <tr>\n",
       "      <th>397</th>\n",
       "      <td>398</td>\n",
       "      <td>330</td>\n",
       "      <td>116</td>\n",
       "      <td>5.0</td>\n",
       "      <td>4.5</td>\n",
       "      <td>9.45</td>\n",
       "      <td>sim</td>\n",
       "      <td>sim</td>\n",
       "    </tr>\n",
       "    <tr>\n",
       "      <th>399</th>\n",
       "      <td>400</td>\n",
       "      <td>333</td>\n",
       "      <td>117</td>\n",
       "      <td>5.0</td>\n",
       "      <td>4.0</td>\n",
       "      <td>9.66</td>\n",
       "      <td>sim</td>\n",
       "      <td>sim</td>\n",
       "    </tr>\n",
       "  </tbody>\n",
       "</table>\n",
       "<p>180 rows × 8 columns</p>\n",
       "</div>"
      ],
      "text/plain": [
       "     Serio_No  Nota_GRE  Nota_TOEFL  Taxa_SOP  Taxa_LOR   Taxa_CGPA Pesquisa  \\\n",
       "0           1       337         118       4.5        4.5       9.65      sim   \n",
       "1           2       324         107       4.0        4.5       8.87      sim   \n",
       "3           4       322         110       3.5        2.5       8.67      sim   \n",
       "5           6       330         115       4.5        3.0       9.34      sim   \n",
       "6           7       321         109       3.0        4.0       8.20      sim   \n",
       "..        ...       ...         ...       ...        ...        ...      ...   \n",
       "394       395       329         111       4.5        4.0       9.23      sim   \n",
       "395       396       324         110       3.5        3.5       9.04      sim   \n",
       "396       397       325         107       3.0        3.5       9.11      sim   \n",
       "397       398       330         116       5.0        4.5       9.45      sim   \n",
       "399       400       333         117       5.0        4.0       9.66      sim   \n",
       "\n",
       "    Admissao  \n",
       "0        sim  \n",
       "1        sim  \n",
       "3        sim  \n",
       "5        sim  \n",
       "6        sim  \n",
       "..       ...  \n",
       "394      sim  \n",
       "395      sim  \n",
       "396      sim  \n",
       "397      sim  \n",
       "399      sim  \n",
       "\n",
       "[180 rows x 8 columns]"
      ]
     },
     "execution_count": 43,
     "metadata": {},
     "output_type": "execute_result"
    }
   ],
   "source": [
    "\n",
    "admitidos = t2b.loc[(t2b.Admissao=='sim'),:]\n",
    "n_admitidos= t2b.loc[(t2b.Admissao=='nao'),:]\n",
    "\n"
   ]
  },
  {
   "cell_type": "code",
   "execution_count": 45,
   "metadata": {},
   "outputs": [
    {
     "data": {
      "text/plain": [
       "count    180.000000\n",
       "mean     325.500000\n",
       "std        7.992664\n",
       "min      303.000000\n",
       "25%      321.000000\n",
       "50%      325.000000\n",
       "75%      331.000000\n",
       "max      340.000000\n",
       "Name: Nota_GRE, dtype: float64"
      ]
     },
     "execution_count": 45,
     "metadata": {},
     "output_type": "execute_result"
    }
   ],
   "source": [
    "admitidos.Nota_GRE.describe()\n",
    "admitidos.Nota_TOEFL.describe()\n",
    "admitidos.Taxa_SOP.describe()\n",
    "admitidos.Taxa_LOR.describe()\n",
    "admitidos.Taxa_CGPA.describe()\n",
    "\n",
    "n_admitidos.Nota_GRE.describe()\n",
    "n_admitidos.Nota_TOEFL.describe()\n",
    "n_admitidos.Taxa_SOP.describe()\n",
    "n_admitidos.Taxa_LOR.describe()\n",
    "n_admitidos.Taxa_CGPA.describe()"
   ]
  },
  {
   "cell_type": "code",
   "execution_count": null,
   "metadata": {},
   "outputs": [],
   "source": []
  },
  {
   "cell_type": "markdown",
   "metadata": {},
   "source": [
    "[Volta ao Índice](#indice)"
   ]
  },
  {
   "cell_type": "markdown",
   "metadata": {},
   "source": [
    "<div id=\"AED\"></div>\n",
    "\n",
    "## ANÁLISE EXPLORATÓRIA DE DADOS\n",
    "\n",
    "O objetivo principal que norteia a manipulação dessa base de dados é compreender quais características dos estudantes de graduação são determinantes na distinção entre aqueles com e sem alta probabilidade de admissão em cursos de pós-graduação.\n",
    "\n",
    "Nesse caso, utilize ferramentas estatísticas **GRÁFICAS** e/ou **TABELAS NUMÉRICAS** que permitam explorar o conjunto de dados frente aos objetivos.\n"
   ]
  },
  {
   "cell_type": "code",
   "execution_count": 36,
   "metadata": {},
   "outputs": [
    {
     "data": {
      "text/html": [
       "<div>\n",
       "<style scoped>\n",
       "    .dataframe tbody tr th:only-of-type {\n",
       "        vertical-align: middle;\n",
       "    }\n",
       "\n",
       "    .dataframe tbody tr th {\n",
       "        vertical-align: top;\n",
       "    }\n",
       "\n",
       "    .dataframe thead th {\n",
       "        text-align: right;\n",
       "    }\n",
       "</style>\n",
       "<table border=\"1\" class=\"dataframe\">\n",
       "  <thead>\n",
       "    <tr style=\"text-align: right;\">\n",
       "      <th></th>\n",
       "      <th>Serio_No</th>\n",
       "      <th>Nota_GRE</th>\n",
       "      <th>Nota_TOEFL</th>\n",
       "      <th>Taxa_SOP</th>\n",
       "      <th>Taxa_LOR</th>\n",
       "      <th>Taxa_CGPA</th>\n",
       "      <th>Pesquisa</th>\n",
       "      <th>Admissao</th>\n",
       "    </tr>\n",
       "  </thead>\n",
       "  <tbody>\n",
       "  </tbody>\n",
       "</table>\n",
       "</div>"
      ],
      "text/plain": [
       "Empty DataFrame\n",
       "Columns: [Serio_No, Nota_GRE, Nota_TOEFL, Taxa_SOP, Taxa_LOR , Taxa_CGPA, Pesquisa, Admissao]\n",
       "Index: []"
      ]
     },
     "execution_count": 36,
     "metadata": {},
     "output_type": "execute_result"
    }
   ],
   "source": [
    "admitidos"
   ]
  },
  {
   "cell_type": "code",
   "execution_count": null,
   "metadata": {},
   "outputs": [],
   "source": []
  },
  {
   "cell_type": "code",
   "execution_count": null,
   "metadata": {},
   "outputs": [],
   "source": []
  },
  {
   "cell_type": "code",
   "execution_count": null,
   "metadata": {},
   "outputs": [],
   "source": []
  },
  {
   "cell_type": "code",
   "execution_count": null,
   "metadata": {},
   "outputs": [],
   "source": []
  },
  {
   "cell_type": "code",
   "execution_count": null,
   "metadata": {},
   "outputs": [],
   "source": []
  },
  {
   "cell_type": "markdown",
   "metadata": {},
   "source": [
    "[Volta ao Índice](#indice)"
   ]
  }
 ],
 "metadata": {
  "kernelspec": {
   "display_name": "Python 3 (ipykernel)",
   "language": "python",
   "name": "python3"
  },
  "language_info": {
   "codemirror_mode": {
    "name": "ipython",
    "version": 3
   },
   "file_extension": ".py",
   "mimetype": "text/x-python",
   "name": "python",
   "nbconvert_exporter": "python",
   "pygments_lexer": "ipython3",
   "version": "3.11.5"
  }
 },
 "nbformat": 4,
 "nbformat_minor": 4
}
